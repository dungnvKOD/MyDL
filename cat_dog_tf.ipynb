{
  "nbformat": 4,
  "nbformat_minor": 0,
  "metadata": {
    "colab": {
      "name": "cat_dog_tf.ipynb",
      "version": "0.3.2",
      "provenance": [],
      "private_outputs": true,
      "include_colab_link": true
    },
    "kernelspec": {
      "name": "python3",
      "display_name": "Python 3"
    }
  },
  "cells": [
    {
      "cell_type": "markdown",
      "metadata": {
        "id": "view-in-github",
        "colab_type": "text"
      },
      "source": [
        "<a href=\"https://colab.research.google.com/github/dungnvKOD/MyDL/blob/master/cat_dog_tf.ipynb\" target=\"_parent\"><img src=\"https://colab.research.google.com/assets/colab-badge.svg\" alt=\"Open In Colab\"/></a>"
      ]
    },
    {
      "cell_type": "code",
      "metadata": {
        "id": "q7b_xze2Nv6B",
        "colab_type": "code",
        "colab": {}
      },
      "source": [
        "# !wget -c https://s3.amazonaws.com/content.udacity-data.com/nd089/Cat_Dog_data.zip\n",
        "# !unzip -qq Cat_Dog_data.zip"
      ],
      "execution_count": 0,
      "outputs": []
    },
    {
      "cell_type": "code",
      "metadata": {
        "id": "hHA1EhlAw_Gl",
        "colab_type": "code",
        "colab": {}
      },
      "source": [
        "import os\n",
        "import numpy as np\n",
        "from keras.preprocessing.image import load_img\n",
        "from keras.preprocessing.image import img_to_array"
      ],
      "execution_count": 0,
      "outputs": []
    },
    {
      "cell_type": "code",
      "metadata": {
        "id": "2c7KLBXgSh1g",
        "colab_type": "code",
        "colab": {}
      },
      "source": [
        "path_train='Cat_Dog_data/train/'\n",
        "import matplotlib.pyplot  as plt\n",
        "for i in range(9):\n",
        "    plt.subplot(330+i+1)\n",
        "    filename=path_train+'dog/'+'dog.'+str(i)+'.jpg'\n",
        "    print(filename)\n",
        "    img=plt.imread(filename)\n",
        "    plt.imshow(img)\n",
        "plt.show()\n"
      ],
      "execution_count": 0,
      "outputs": []
    },
    {
      "cell_type": "code",
      "metadata": {
        "id": "lCygMDg7bp3w",
        "colab_type": "code",
        "colab": {}
      },
      "source": [
        "for i in range(9):\n",
        "    plt.subplot(330+i+1)\n",
        "    filename=path_train+'cat/'+'cat.'+str(i)+'.jpg'\n",
        "    img=plt.imread(filename)\n",
        "    plt.imshow(img)\n",
        "plt.show()\n",
        "    "
      ],
      "execution_count": 0,
      "outputs": []
    },
    {
      "cell_type": "code",
      "metadata": {
        "id": "Vib9rOIGLjSc",
        "colab_type": "code",
        "colab": {}
      },
      "source": [
        "\n",
        "\n",
        "# define loacation of dataset\n",
        "train_cat=path_train+'cat/'\n",
        "\n",
        "photos,labels=list(),list()\n",
        "\n",
        "for file in os.listdir(train_cat):\n",
        "    output=0.0\n",
        "    # define class\n",
        "    if file.startswith('cat'):\n",
        "        output=1.0\n",
        "    # load image\n",
        "    photo=load_img(train_cat+file,target_size=(200,200))\n",
        "    # covert to numpy array\n",
        "    photo=img_to_array(photo)\n",
        "    # store\n",
        "    photos.append(photo)\n",
        "    labels.append(output)\n",
        "\n",
        "# convert to a numpy arrays\n",
        "photos=np.asarray(photos)\n",
        "labels=np.asarray(labels)\n",
        "print(photos.shape,labels.shape)\n",
        "\n",
        "# save the reshape photos\n",
        "np.save('dogs_sv_cats_photos.npy',photos)\n",
        "np.save('dogs_sv_cats_labels.npy',labels)\n",
        "        "
      ],
      "execution_count": 0,
      "outputs": []
    },
    {
      "cell_type": "code",
      "metadata": {
        "id": "qSr48QdjX4IC",
        "colab_type": "code",
        "colab": {}
      },
      "source": [
        "# load and confirm the shape\n",
        "photos=np.load('dogs_sv_cats_photos.npy')\n",
        "labels=np.load('dogs_sv_cats_labels.npy')\n",
        "\n",
        "print(\"shape photos : \",photos.shape,\" ,shape labels : \",labels.shape)"
      ],
      "execution_count": 0,
      "outputs": []
    },
    {
      "cell_type": "code",
      "metadata": {
        "id": "z_bMqybuwWsO",
        "colab_type": "code",
        "colab": {}
      },
      "source": [
        "import shutil \n",
        "\n",
        "ground_dir='dog_cat_data/'\n",
        "subdirs=['train/','test/']\n",
        "for subdir in subdirs:\n",
        "    # create label subdir \n",
        "    labeldirs=['dog/','cat/']\n",
        "    for labldir in labeldirs:\n",
        "        newdir =ground_dir+subdir+labldir\n",
        "        os.makedirs(newdir,exist_ok=True)\n",
        "\n",
        "\n",
        "# seed random number geenrator\n",
        "np.random.seed(1)\n",
        "# define ratio of pictures to use for validation \n",
        "val_ratio=0.25\n",
        "# copy training dataset images into subdirectories\n",
        "src_diretory=ground_dir+'train/'\n",
        "for file in os.listdir(src_diretory):\n",
        "    src=src_diretory+'/'+file\n",
        "    dst_dir='train/'\n",
        "    if np.random.random()<val_ratio:\n",
        "        dst_dir='test/'\n",
        "        if file.startswith('cat'):\n",
        "            dst=ground_dir+dst_dir+'cat/'+file\n",
        "            shutil.copyfile(src=src,dst= dst)\n",
        "        elif file.startswith('dog'):\n",
        "            dst=ground_dir+dst_dir+'dog'+file\n",
        "            shutil.copyfile(src=src,dst=dst)"
      ],
      "execution_count": 0,
      "outputs": []
    }
  ]
}