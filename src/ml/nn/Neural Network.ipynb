{
 "cells": [
  {
   "cell_type": "code",
   "execution_count": 4,
   "metadata": {
    "collapsed": true,
    "pycharm": {
     "is_executing": false
    }
   },
   "outputs": [
    {
     "data": {
      "text/plain": "<Figure size 432x288 with 1 Axes>",
      "image/png": "[encoded data removed]"
     },
     "metadata": {},
     "output_type": "display_data"
    }
   ],
   "source": [
    "# To support both python 2 and python 3\n",
    "from __future__ import division, print_function, unicode_literals\n",
    "import math\n",
    "import numpy as np \n",
    "import matplotlib.pyplot as plt\n",
    "from xlwings import xrange\n",
    "\n",
    "N = 100 # number of points per class\n",
    "d0 = 2 # dimensionality\n",
    "C = 3 # number of classes\n",
    "X = np.zeros((d0, N*C)) # data matrix (each row = single example)\n",
    "y = np.zeros(N*C, dtype='uint8') # class labels\n",
    "\n",
    "for j in xrange(C):\n",
    "  ix = range(N*j,N*(j+1))\n",
    "  r = np.linspace(0.0,1,N) # radius\n",
    "  t = np.linspace(j*4,(j+1)*4,N) + np.random.randn(N)*0.2 # theta\n",
    "  X[:,ix] = np.c_[r*np.sin(t), r*np.cos(t)].T\n",
    "  y[ix] = j\n",
    "# lets visualize the data:\n",
    "# plt.scatter(X[:N, 0], X[:N, 1], c=y[:N], s=40, cmap=plt.cm.Spectral)\n",
    "\n",
    "plt.plot(X[0, :N], X[1, :N], 'bs', markersize = 7);\n",
    "plt.plot(X[0, N:2*N], X[1, N:2*N], 'g^', markersize = 7);\n",
    "plt.plot(X[0, 2*N:], X[1, 2*N:], 'ro', markersize = 7);\n",
    "# plt.axis('off')\n",
    "plt.xlim([-1.5, 1.5])\n",
    "plt.ylim([-1.5, 1.5])\n",
    "cur_axes = plt.gca()\n",
    "cur_axes.axes.get_xaxis().set_ticks([])\n",
    "cur_axes.axes.get_yaxis().set_ticks([])\n",
    "\n",
    "plt.savefig('EX.png', bbox_inches='tight', dpi = 600)\n",
    "plt.show()\n",
    "   "
   ]
  },
  {
   "cell_type": "code",
   "execution_count": 5,
   "outputs": [],
   "source": [
    "\n",
    "def softmax(V):\n",
    "    e_V = np.exp(V - np.max(V, axis = 0, keepdims = True))\n",
    "    Z = e_V / e_V.sum(axis = 0)\n",
    "    return Z\n",
    "\n",
    "## One-hot coding\n",
    "from scipy import sparse \n",
    "def convert_labels(y, C = 3):\n",
    "    Y = sparse.coo_matrix((np.ones_like(y), \n",
    "        (y, np.arange(len(y)))), shape = (C, len(y))).toarray()\n",
    "    return Y \n",
    "\n",
    "# cost or loss function  \n",
    "def cost(Y, Yhat):    \n",
    "    return -np.sum(Y*np.log(Yhat))/Y.shape[1]\n",
    "\n",
    "\n"
   ],
   "metadata": {
    "collapsed": false,
    "pycharm": {
     "name": "#%%\n",
     "is_executing": false
    }
   }
  },
  {
   "cell_type": "code",
   "execution_count": null,
   "outputs": [],
   "source": [
    "d0=2\n",
    "d1=h=100\n",
    "d2=C=3\n",
    "\n",
    "# khoi tao cac tham so ngau nhien\n",
    "w1=0.01*np.random.randn(d0,d1)\n",
    "b1=np.zeros((d1,1))\n",
    "w2=0.01*np.random.randn(d1,d2)\n",
    "b2=np.zeros((d2,1))\n",
    "\n",
    "Y=convert_labels(y,C)\n",
    "N=X.shape[1]\n",
    "\n",
    "eta=1\n",
    "for i in xrange(10000):\n",
    "    ## feedforward\n",
    "    Z1=np.dot(w1.T,X)+b1\n",
    "    A1=np.maximum(Z1,0)\n",
    "    Z2=np.dot(w2.T,A1)+b2\n",
    "    yHat=softmax(Z2)\n",
    "    \n",
    "    if i%1000==0:\n",
    "        loss=cost(y,yHat)\n",
    "        print('loss : ',loss)\n",
    "        \n",
    "    ## Backpropagation\n",
    "    \n",
    "    E2=(yHat-y)/N\n",
    "    dw2=np.dot(A1,E2.T)\n",
    "    db2=np.sum(E2,axis=1,keepdims=True)\n",
    "    E1=np.dot(w2,E2)\n",
    "    E1[Z1 <= 0] = 0 # gradient of ReLU \n",
    "    dW1 = np.dot(X, E1.T)\n",
    "    db1 = np.sum(E1, axis = 1, keepdims = True)\n",
    "    \n",
    "    # Gradient Descent update \n",
    "    # import pdb; pdb.set_trace()  # breakpoint 47741f63 //\n",
    "    w1 += -eta*dW1 \n",
    "    b1 += -eta*db1 \n",
    "    w2 += -eta*dw2\n",
    "    b2 += -eta*db2 \n",
    "\n",
    "Z1 = np.dot(w1.T, X) + b1 \n",
    "A1 = np.maximum(Z1, 0)\n",
    "Z2 = np.dot(w2.T, A1) + b2\n",
    "predicted_class = np.argmax(Z2, axis=0)\n",
    "acc = (100*np.mean(predicted_class == y))\n",
    "print('training accuracy: %.2f %%' % acc)\n",
    "\n",
    "# Visualize results \n",
    "#Visualize \n",
    "\n",
    "\n",
    "xm = np.arange(-1.5, 1.5, 0.025)\n",
    "xlen = len(xm)\n",
    "ym = np.arange(-1.5, 1.5, 0.025)\n",
    "ylen = len(ym)\n",
    "xx, yy = np.meshgrid(xm, ym)\n",
    "\n",
    "\n",
    "# xx, yy = np.meshgrid(np.arange(x_min, x_max, h), np.arange(y_min, y_max, h))\n",
    "# xx.ravel(), yy.ravel()\n",
    "\n",
    "print(np.ones((1, xx.size)).shape)\n",
    "xx1 = xx.ravel().reshape(1, xx.size)\n",
    "yy1 = yy.ravel().reshape(1, yy.size)\n",
    "\n",
    "# print(xx.shape, yy.shape)\n",
    "# XX = np.concatenate((np.ones((1, xx.size)), xx1, yy1), axis = 0)\n",
    "\n",
    "X0 = np.vstack((xx1, yy1))\n",
    "\n",
    "# print(X.shape)\n",
    "\n",
    "Z1 = np.dot(w1.T, X0) + b1 \n",
    "A1 = np.maximum(Z1, 0)\n",
    "Z2 = np.dot(w2.T, A1) + b2\n",
    "# predicted class \n",
    "Z = np.argmax(Z2, axis=0)\n",
    "\n",
    "Z = Z.reshape(xx.shape)\n",
    "CS = plt.contourf(xx, yy, Z, 200, cmap='jet', alpha = .1)\n",
    "    \n",
    "    \n",
    "        \n",
    "    \n",
    "    \n",
    "    \n",
    "\n"
   ],
   "metadata": {
    "collapsed": false,
    "pycharm": {
     "name": "#%%\n"
    }
   }
  }
 ],
 "metadata": {
  "language_info": {
   "codemirror_mode": {
    "name": "ipython",
    "version": 2
   },
   "file_extension": ".py",
   "mimetype": "text/x-python",
   "name": "python",
   "nbconvert_exporter": "python",
   "pygments_lexer": "ipython2",
   "version": "2.7.6"
  },
  "kernelspec": {
   "name": "python3",
   "language": "python",
   "display_name": "Python 3"
  },
  "pycharm": {
   "stem_cell": {
    "cell_type": "raw",
    "source": [],
    "metadata": {
     "collapsed": false
    }
   }
  }
 },
 "nbformat": 4,
 "nbformat_minor": 0
}