{
 "cells": [
  {
   "cell_type": "code",
   "execution_count": null,
   "metadata": {
    "collapsed": true
   },
   "outputs": [],
   "source": [
    "import tensorflow as tf\n",
    "import keras.datasets.fashion_mnist as fashion_mnist\n",
    "import keras.datasets.cifar10 as cifar10\n",
    "import keras.datasets.mnist as mnist\n",
    "\n",
    "(X_train,y_train),(X_test,y_test)=fashion_mnist.load_data()\n",
    "\n",
    "width,height,channel=X_train.shape[1],X_train.shape[2],X_train.shape[3]\n",
    "print(width)\n",
    "print(height)\n",
    "print(channel)\n"
   ]
  }
 ],
 "metadata": {
  "language_info": {
   "codemirror_mode": {
    "name": "ipython",
    "version": 2
   },
   "file_extension": ".py",
   "mimetype": "text/x-python",
   "name": "python",
   "nbconvert_exporter": "python",
   "pygments_lexer": "ipython2",
   "version": "2.7.6"
  },
  "kernelspec": {
   "name": "python3",
   "language": "python",
   "display_name": "Python 3"
  },
  "pycharm": {
   "stem_cell": {
    "cell_type": "raw",
    "source": [],
    "metadata": {
     "collapsed": false
    }
   }
  }
 },
 "nbformat": 4,
 "nbformat_minor": 0
}